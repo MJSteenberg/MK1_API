{
 "cells": [
  {
   "cell_type": "code",
   "execution_count": 1,
   "id": "57fdcceb",
   "metadata": {},
   "outputs": [
    {
     "name": "stderr",
     "output_type": "stream",
     "text": [
      "/Users/mj/Library/CloudStorage/OneDrive-Mark1Media&Consulting/Documents - Copy/Datorama/Twitter API/twitter_ads/functions.py:466: SettingWithCopyWarning: \n",
      "A value is trying to be set on a copy of a slice from a DataFrame.\n",
      "Try using .loc[row_indexer,col_indexer] = value instead\n",
      "\n",
      "See the caveats in the documentation: https://pandas.pydata.org/pandas-docs/stable/user_guide/indexing.html#returning-a-view-versus-a-copy\n",
      "  test_fixed_collapse['new_vals'] = my_list\n"
     ]
    },
    {
     "name": "stdout",
     "output_type": "stream",
     "text": [
      "DONE ---- Big Excel Created ---- MFS_Gender_45_Days_(26Jan).xlsx\n"
     ]
    }
   ],
   "source": [
    "# Importing Time Libraries\n",
    "import schedule\n",
    "import time\n",
    "from twitter_ads.functions import send_email\n",
    "\n",
    "def runnas():\n",
    "    return send_email(\n",
    "                        SUBJECT='MFS Gender Update', \n",
    "                        BODY=\"FS Gender Update!\", \n",
    "                        SEND_TO=['mj@mark1.co.za', '1931f983d3494b37ac053b46b45a915d@dbx-eu.datorama.com', 'genmei.mark1@gmail.com'], #1931f983d3494b37ac053b46b45a915d@dbx-eu.datorama.com\n",
    "                        EXCEL_FILE='MFS_Gender_45_Days_(26Jan)',\n",
    "                        ID='18ce55frb3y', #Solidarity\n",
    "                        DD=45, \n",
    "                        SEG=\"GENDER\", #GNEDER SEGMENT\n",
    "                        \n",
    "                    )\n",
    "\n",
    "# while True:\n",
    "#     try:\n",
    "#         schedule.every(400).seconds.do(runnas)\n",
    "#         break\n",
    "#     except TypeError:\n",
    "#         schedule.every(400).seconds.do(runnas)\n",
    "# #         pass\n",
    "\n",
    "\n",
    "# # Keeps the code running\n",
    "# while 1:\n",
    "#     schedule.run_pending()\n",
    "#     time.sleep(1)\n",
    "runnas()"
   ]
  },
  {
   "cell_type": "code",
   "execution_count": null,
   "id": "e32bb5e2",
   "metadata": {},
   "outputs": [],
   "source": []
  }
 ],
 "metadata": {
  "kernelspec": {
   "display_name": "Python 3 (ipykernel)",
   "language": "python",
   "name": "python3"
  },
  "language_info": {
   "codemirror_mode": {
    "name": "ipython",
    "version": 3
   },
   "file_extension": ".py",
   "mimetype": "text/x-python",
   "name": "python",
   "nbconvert_exporter": "python",
   "pygments_lexer": "ipython3",
   "version": "3.9.7"
  }
 },
 "nbformat": 4,
 "nbformat_minor": 5
}
